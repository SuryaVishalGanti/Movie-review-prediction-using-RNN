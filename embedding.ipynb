{
 "cells": [
  {
   "cell_type": "code",
   "execution_count": 21,
   "metadata": {},
   "outputs": [],
   "source": [
    "import tensorflow as tf\n",
    "from tensorflow.keras.preprocessing.text import one_hot"
   ]
  },
  {
   "cell_type": "code",
   "execution_count": 22,
   "metadata": {},
   "outputs": [],
   "source": [
    "## Some Sentences\n",
    "sent = ['The glass of milk',\n",
    "        'the glass of Juice',\n",
    "        'The cup of Tea',\n",
    "        'I am a Good Boy',\n",
    "        'I am good Developer',\n",
    "        'Understand the meaning of words',\n",
    "        'your videos are good']"
   ]
  },
  {
   "cell_type": "code",
   "execution_count": 23,
   "metadata": {},
   "outputs": [
    {
     "data": {
      "text/plain": [
       "['The glass of milk',\n",
       " 'the glass of Juice',\n",
       " 'The cup of Tea',\n",
       " 'I am a Good Boy',\n",
       " 'I am good Developer',\n",
       " 'Understand the meaning of words',\n",
       " 'your videos are good']"
      ]
     },
     "execution_count": 23,
     "metadata": {},
     "output_type": "execute_result"
    }
   ],
   "source": [
    "sent"
   ]
  },
  {
   "cell_type": "code",
   "execution_count": 24,
   "metadata": {},
   "outputs": [],
   "source": [
    "## Define the vocalbulary size\n",
    "voc_size = 10000"
   ]
  },
  {
   "cell_type": "code",
   "execution_count": 25,
   "metadata": {},
   "outputs": [
    {
     "data": {
      "text/plain": [
       "['The glass of milk',\n",
       " 'the glass of Juice',\n",
       " 'The cup of Tea',\n",
       " 'I am a Good Boy',\n",
       " 'I am good Developer',\n",
       " 'Understand the meaning of words',\n",
       " 'your videos are good']"
      ]
     },
     "execution_count": 25,
     "metadata": {},
     "output_type": "execute_result"
    }
   ],
   "source": [
    "sent"
   ]
  },
  {
   "cell_type": "code",
   "execution_count": 26,
   "metadata": {},
   "outputs": [
    {
     "data": {
      "text/plain": [
       "[[774, 7756, 3672, 9422],\n",
       " [774, 7756, 3672, 5138],\n",
       " [774, 2469, 3672, 9854],\n",
       " [6361, 7372, 551, 5293, 4374],\n",
       " [6361, 7372, 5293, 935],\n",
       " [6299, 774, 7677, 3672, 8344],\n",
       " [9265, 9967, 382, 5293]]"
      ]
     },
     "execution_count": 26,
     "metadata": {},
     "output_type": "execute_result"
    }
   ],
   "source": [
    "## One hot Representation\n",
    "one_hot_repre = [one_hot(words,voc_size)for words in sent]\n",
    "one_hot_repre"
   ]
  },
  {
   "cell_type": "code",
   "execution_count": 27,
   "metadata": {},
   "outputs": [],
   "source": [
    "## Word embedding Representation\n",
    "\n",
    "from tensorflow.keras.layers import Embedding\n",
    "#from tensorflow.keras.preprocessing.sequence import pad_sequences\n",
    "from tensorflow.keras.utils import pad_sequences\n",
    "from tensorflow.keras.models import Sequential\n",
    "import numpy as np"
   ]
  },
  {
   "cell_type": "code",
   "execution_count": 28,
   "metadata": {},
   "outputs": [],
   "source": [
    "# Max sentence\n",
    "sent_length = 8\n",
    "embedding_docs = pad_sequences(one_hot_repre,padding='pre',maxlen=sent_length)"
   ]
  },
  {
   "cell_type": "code",
   "execution_count": 29,
   "metadata": {},
   "outputs": [
    {
     "name": "stdout",
     "output_type": "stream",
     "text": [
      "[[   0    0    0    0  774 7756 3672 9422]\n",
      " [   0    0    0    0  774 7756 3672 5138]\n",
      " [   0    0    0    0  774 2469 3672 9854]\n",
      " [   0    0    0 6361 7372  551 5293 4374]\n",
      " [   0    0    0    0 6361 7372 5293  935]\n",
      " [   0    0    0 6299  774 7677 3672 8344]\n",
      " [   0    0    0    0 9265 9967  382 5293]]\n"
     ]
    }
   ],
   "source": [
    "print(embedding_docs)"
   ]
  },
  {
   "cell_type": "code",
   "execution_count": 30,
   "metadata": {},
   "outputs": [],
   "source": [
    "## Feature Representation\n",
    "dim = 8"
   ]
  },
  {
   "cell_type": "code",
   "execution_count": 31,
   "metadata": {},
   "outputs": [],
   "source": [
    "model=Sequential()\n",
    "model.add(Embedding(voc_size,dim,input_length=sent_length))\n",
    "model.compile('adam','mse')"
   ]
  },
  {
   "cell_type": "code",
   "execution_count": 32,
   "metadata": {},
   "outputs": [
    {
     "data": {
      "text/html": [
       "<pre style=\"white-space:pre;overflow-x:auto;line-height:normal;font-family:Menlo,'DejaVu Sans Mono',consolas,'Courier New',monospace\"><span style=\"font-weight: bold\">Model: \"sequential_2\"</span>\n",
       "</pre>\n"
      ],
      "text/plain": [
       "\u001b[1mModel: \"sequential_2\"\u001b[0m\n"
      ]
     },
     "metadata": {},
     "output_type": "display_data"
    },
    {
     "data": {
      "text/html": [
       "<pre style=\"white-space:pre;overflow-x:auto;line-height:normal;font-family:Menlo,'DejaVu Sans Mono',consolas,'Courier New',monospace\">┏━━━━━━━━━━━━━━━━━━━━━━━━━━━━━━━━━┳━━━━━━━━━━━━━━━━━━━━━━━━┳━━━━━━━━━━━━━━━┓\n",
       "┃<span style=\"font-weight: bold\"> Layer (type)                    </span>┃<span style=\"font-weight: bold\"> Output Shape           </span>┃<span style=\"font-weight: bold\">       Param # </span>┃\n",
       "┡━━━━━━━━━━━━━━━━━━━━━━━━━━━━━━━━━╇━━━━━━━━━━━━━━━━━━━━━━━━╇━━━━━━━━━━━━━━━┩\n",
       "│ embedding_4 (<span style=\"color: #0087ff; text-decoration-color: #0087ff\">Embedding</span>)         │ ?                      │   <span style=\"color: #00af00; text-decoration-color: #00af00\">0</span> (unbuilt) │\n",
       "└─────────────────────────────────┴────────────────────────┴───────────────┘\n",
       "</pre>\n"
      ],
      "text/plain": [
       "┏━━━━━━━━━━━━━━━━━━━━━━━━━━━━━━━━━┳━━━━━━━━━━━━━━━━━━━━━━━━┳━━━━━━━━━━━━━━━┓\n",
       "┃\u001b[1m \u001b[0m\u001b[1mLayer (type)                   \u001b[0m\u001b[1m \u001b[0m┃\u001b[1m \u001b[0m\u001b[1mOutput Shape          \u001b[0m\u001b[1m \u001b[0m┃\u001b[1m \u001b[0m\u001b[1m      Param #\u001b[0m\u001b[1m \u001b[0m┃\n",
       "┡━━━━━━━━━━━━━━━━━━━━━━━━━━━━━━━━━╇━━━━━━━━━━━━━━━━━━━━━━━━╇━━━━━━━━━━━━━━━┩\n",
       "│ embedding_4 (\u001b[38;5;33mEmbedding\u001b[0m)         │ ?                      │   \u001b[38;5;34m0\u001b[0m (unbuilt) │\n",
       "└─────────────────────────────────┴────────────────────────┴───────────────┘\n"
      ]
     },
     "metadata": {},
     "output_type": "display_data"
    },
    {
     "data": {
      "text/html": [
       "<pre style=\"white-space:pre;overflow-x:auto;line-height:normal;font-family:Menlo,'DejaVu Sans Mono',consolas,'Courier New',monospace\"><span style=\"font-weight: bold\"> Total params: </span><span style=\"color: #00af00; text-decoration-color: #00af00\">0</span> (0.00 B)\n",
       "</pre>\n"
      ],
      "text/plain": [
       "\u001b[1m Total params: \u001b[0m\u001b[38;5;34m0\u001b[0m (0.00 B)\n"
      ]
     },
     "metadata": {},
     "output_type": "display_data"
    },
    {
     "data": {
      "text/html": [
       "<pre style=\"white-space:pre;overflow-x:auto;line-height:normal;font-family:Menlo,'DejaVu Sans Mono',consolas,'Courier New',monospace\"><span style=\"font-weight: bold\"> Trainable params: </span><span style=\"color: #00af00; text-decoration-color: #00af00\">0</span> (0.00 B)\n",
       "</pre>\n"
      ],
      "text/plain": [
       "\u001b[1m Trainable params: \u001b[0m\u001b[38;5;34m0\u001b[0m (0.00 B)\n"
      ]
     },
     "metadata": {},
     "output_type": "display_data"
    },
    {
     "data": {
      "text/html": [
       "<pre style=\"white-space:pre;overflow-x:auto;line-height:normal;font-family:Menlo,'DejaVu Sans Mono',consolas,'Courier New',monospace\"><span style=\"font-weight: bold\"> Non-trainable params: </span><span style=\"color: #00af00; text-decoration-color: #00af00\">0</span> (0.00 B)\n",
       "</pre>\n"
      ],
      "text/plain": [
       "\u001b[1m Non-trainable params: \u001b[0m\u001b[38;5;34m0\u001b[0m (0.00 B)\n"
      ]
     },
     "metadata": {},
     "output_type": "display_data"
    }
   ],
   "source": [
    "model.summary()"
   ]
  },
  {
   "cell_type": "code",
   "execution_count": 33,
   "metadata": {},
   "outputs": [
    {
     "name": "stdout",
     "output_type": "stream",
     "text": [
      "\u001b[1m1/1\u001b[0m \u001b[32m━━━━━━━━━━━━━━━━━━━━\u001b[0m\u001b[37m\u001b[0m \u001b[1m0s\u001b[0m 39ms/step\n"
     ]
    },
    {
     "data": {
      "text/plain": [
       "array([[[-0.04264235,  0.0276317 ,  0.00793422, -0.00635986,\n",
       "          0.02465488, -0.02149308,  0.04753308,  0.00706873],\n",
       "        [-0.04264235,  0.0276317 ,  0.00793422, -0.00635986,\n",
       "          0.02465488, -0.02149308,  0.04753308,  0.00706873],\n",
       "        [-0.04264235,  0.0276317 ,  0.00793422, -0.00635986,\n",
       "          0.02465488, -0.02149308,  0.04753308,  0.00706873],\n",
       "        [-0.04264235,  0.0276317 ,  0.00793422, -0.00635986,\n",
       "          0.02465488, -0.02149308,  0.04753308,  0.00706873],\n",
       "        [ 0.0293878 ,  0.03781507, -0.01071819, -0.04165692,\n",
       "          0.0308384 ,  0.02703312,  0.04819958,  0.01110151],\n",
       "        [ 0.01901926,  0.0117792 , -0.04152762,  0.02762059,\n",
       "         -0.0077065 , -0.04527365,  0.03481301, -0.00748085],\n",
       "        [-0.00747174, -0.0347922 ,  0.01352707, -0.00225507,\n",
       "          0.01195916,  0.04577715,  0.04737662, -0.0033278 ],\n",
       "        [ 0.01764585, -0.01572609, -0.01488013, -0.01355382,\n",
       "          0.00419275, -0.03019837, -0.02600399,  0.00365454]],\n",
       "\n",
       "       [[-0.04264235,  0.0276317 ,  0.00793422, -0.00635986,\n",
       "          0.02465488, -0.02149308,  0.04753308,  0.00706873],\n",
       "        [-0.04264235,  0.0276317 ,  0.00793422, -0.00635986,\n",
       "          0.02465488, -0.02149308,  0.04753308,  0.00706873],\n",
       "        [-0.04264235,  0.0276317 ,  0.00793422, -0.00635986,\n",
       "          0.02465488, -0.02149308,  0.04753308,  0.00706873],\n",
       "        [-0.04264235,  0.0276317 ,  0.00793422, -0.00635986,\n",
       "          0.02465488, -0.02149308,  0.04753308,  0.00706873],\n",
       "        [ 0.0293878 ,  0.03781507, -0.01071819, -0.04165692,\n",
       "          0.0308384 ,  0.02703312,  0.04819958,  0.01110151],\n",
       "        [ 0.01901926,  0.0117792 , -0.04152762,  0.02762059,\n",
       "         -0.0077065 , -0.04527365,  0.03481301, -0.00748085],\n",
       "        [-0.00747174, -0.0347922 ,  0.01352707, -0.00225507,\n",
       "          0.01195916,  0.04577715,  0.04737662, -0.0033278 ],\n",
       "        [-0.04216422,  0.03342308,  0.04335303, -0.04503659,\n",
       "          0.02178491, -0.04634944,  0.02157222, -0.00598303]],\n",
       "\n",
       "       [[-0.04264235,  0.0276317 ,  0.00793422, -0.00635986,\n",
       "          0.02465488, -0.02149308,  0.04753308,  0.00706873],\n",
       "        [-0.04264235,  0.0276317 ,  0.00793422, -0.00635986,\n",
       "          0.02465488, -0.02149308,  0.04753308,  0.00706873],\n",
       "        [-0.04264235,  0.0276317 ,  0.00793422, -0.00635986,\n",
       "          0.02465488, -0.02149308,  0.04753308,  0.00706873],\n",
       "        [-0.04264235,  0.0276317 ,  0.00793422, -0.00635986,\n",
       "          0.02465488, -0.02149308,  0.04753308,  0.00706873],\n",
       "        [ 0.0293878 ,  0.03781507, -0.01071819, -0.04165692,\n",
       "          0.0308384 ,  0.02703312,  0.04819958,  0.01110151],\n",
       "        [ 0.00618988,  0.00801271, -0.0214245 ,  0.02227708,\n",
       "         -0.01907021, -0.01088812,  0.0475275 , -0.02254082],\n",
       "        [-0.00747174, -0.0347922 ,  0.01352707, -0.00225507,\n",
       "          0.01195916,  0.04577715,  0.04737662, -0.0033278 ],\n",
       "        [ 0.04746486,  0.03503006,  0.03469546, -0.02619751,\n",
       "         -0.03110041, -0.02570639, -0.04069314, -0.01510821]],\n",
       "\n",
       "       [[-0.04264235,  0.0276317 ,  0.00793422, -0.00635986,\n",
       "          0.02465488, -0.02149308,  0.04753308,  0.00706873],\n",
       "        [-0.04264235,  0.0276317 ,  0.00793422, -0.00635986,\n",
       "          0.02465488, -0.02149308,  0.04753308,  0.00706873],\n",
       "        [-0.04264235,  0.0276317 ,  0.00793422, -0.00635986,\n",
       "          0.02465488, -0.02149308,  0.04753308,  0.00706873],\n",
       "        [-0.04059794, -0.04397244, -0.03393263, -0.023145  ,\n",
       "          0.0160719 , -0.01871622, -0.01607808, -0.03029325],\n",
       "        [ 0.00689938,  0.04096272,  0.00569747, -0.03441945,\n",
       "         -0.04787382,  0.02394228,  0.01531993, -0.02179418],\n",
       "        [ 0.01238557, -0.01989996,  0.00711662,  0.03744307,\n",
       "          0.0434695 ,  0.03758487, -0.01029978,  0.03580258],\n",
       "        [-0.03137263, -0.04307451, -0.03591558,  0.02734799,\n",
       "          0.00973909,  0.03579488,  0.02138169,  0.0176405 ],\n",
       "        [-0.03646677, -0.04370469, -0.02470996, -0.01031698,\n",
       "         -0.02141745, -0.03289779, -0.02757367, -0.02552899]],\n",
       "\n",
       "       [[-0.04264235,  0.0276317 ,  0.00793422, -0.00635986,\n",
       "          0.02465488, -0.02149308,  0.04753308,  0.00706873],\n",
       "        [-0.04264235,  0.0276317 ,  0.00793422, -0.00635986,\n",
       "          0.02465488, -0.02149308,  0.04753308,  0.00706873],\n",
       "        [-0.04264235,  0.0276317 ,  0.00793422, -0.00635986,\n",
       "          0.02465488, -0.02149308,  0.04753308,  0.00706873],\n",
       "        [-0.04264235,  0.0276317 ,  0.00793422, -0.00635986,\n",
       "          0.02465488, -0.02149308,  0.04753308,  0.00706873],\n",
       "        [-0.04059794, -0.04397244, -0.03393263, -0.023145  ,\n",
       "          0.0160719 , -0.01871622, -0.01607808, -0.03029325],\n",
       "        [ 0.00689938,  0.04096272,  0.00569747, -0.03441945,\n",
       "         -0.04787382,  0.02394228,  0.01531993, -0.02179418],\n",
       "        [-0.03137263, -0.04307451, -0.03591558,  0.02734799,\n",
       "          0.00973909,  0.03579488,  0.02138169,  0.0176405 ],\n",
       "        [ 0.00474131, -0.02281337,  0.01477882, -0.03636639,\n",
       "          0.00632226, -0.03458953, -0.04595962, -0.04282936]],\n",
       "\n",
       "       [[-0.04264235,  0.0276317 ,  0.00793422, -0.00635986,\n",
       "          0.02465488, -0.02149308,  0.04753308,  0.00706873],\n",
       "        [-0.04264235,  0.0276317 ,  0.00793422, -0.00635986,\n",
       "          0.02465488, -0.02149308,  0.04753308,  0.00706873],\n",
       "        [-0.04264235,  0.0276317 ,  0.00793422, -0.00635986,\n",
       "          0.02465488, -0.02149308,  0.04753308,  0.00706873],\n",
       "        [-0.01776558, -0.01847412, -0.01747789, -0.01561694,\n",
       "         -0.00766032,  0.02766449,  0.04572688,  0.02274144],\n",
       "        [ 0.0293878 ,  0.03781507, -0.01071819, -0.04165692,\n",
       "          0.0308384 ,  0.02703312,  0.04819958,  0.01110151],\n",
       "        [-0.04168295, -0.03753197, -0.03636887, -0.02120072,\n",
       "          0.0096706 , -0.04496524, -0.03964093,  0.04567942],\n",
       "        [-0.00747174, -0.0347922 ,  0.01352707, -0.00225507,\n",
       "          0.01195916,  0.04577715,  0.04737662, -0.0033278 ],\n",
       "        [ 0.02013569, -0.0190311 ,  0.04850585, -0.04913765,\n",
       "          0.00244665,  0.04011693, -0.04511435,  0.04845184]],\n",
       "\n",
       "       [[-0.04264235,  0.0276317 ,  0.00793422, -0.00635986,\n",
       "          0.02465488, -0.02149308,  0.04753308,  0.00706873],\n",
       "        [-0.04264235,  0.0276317 ,  0.00793422, -0.00635986,\n",
       "          0.02465488, -0.02149308,  0.04753308,  0.00706873],\n",
       "        [-0.04264235,  0.0276317 ,  0.00793422, -0.00635986,\n",
       "          0.02465488, -0.02149308,  0.04753308,  0.00706873],\n",
       "        [-0.04264235,  0.0276317 ,  0.00793422, -0.00635986,\n",
       "          0.02465488, -0.02149308,  0.04753308,  0.00706873],\n",
       "        [ 0.0243494 ,  0.04220296,  0.04167568, -0.00108948,\n",
       "         -0.00828255,  0.04975668, -0.00875381, -0.02071793],\n",
       "        [-0.02020531,  0.01449325,  0.03044442, -0.04901905,\n",
       "         -0.00613921, -0.01946042,  0.01716984,  0.04891356],\n",
       "        [ 0.03342754,  0.04573176, -0.0333113 ,  0.04655289,\n",
       "          0.0050357 , -0.02970943,  0.04217614, -0.03542078],\n",
       "        [-0.03137263, -0.04307451, -0.03591558,  0.02734799,\n",
       "          0.00973909,  0.03579488,  0.02138169,  0.0176405 ]]],\n",
       "      dtype=float32)"
      ]
     },
     "execution_count": 33,
     "metadata": {},
     "output_type": "execute_result"
    }
   ],
   "source": [
    "model.predict(embedding_docs)"
   ]
  },
  {
   "cell_type": "code",
   "execution_count": 34,
   "metadata": {},
   "outputs": [],
   "source": [
    "from tensorflow.keras.layers import Input\n",
    "model = Sequential()\n",
    "model.add(Input(shape=(sent_length,)))  # Define the input shape"
   ]
  },
  {
   "cell_type": "code",
   "execution_count": 35,
   "metadata": {},
   "outputs": [
    {
     "data": {
      "text/plain": [
       "array([   0,    0,    0,    0,  774, 7756, 3672, 9422], dtype=int32)"
      ]
     },
     "execution_count": 35,
     "metadata": {},
     "output_type": "execute_result"
    }
   ],
   "source": [
    "## My first sentence\n",
    "embedding_docs[0]"
   ]
  },
  {
   "cell_type": "code",
   "execution_count": 36,
   "metadata": {},
   "outputs": [],
   "source": [
    "a = model.add(Embedding(input_dim=dim, output_dim=128, input_length=sent_length))"
   ]
  }
 ],
 "metadata": {
  "kernelspec": {
   "display_name": "myenv",
   "language": "python",
   "name": "python3"
  },
  "language_info": {
   "codemirror_mode": {
    "name": "ipython",
    "version": 3
   },
   "file_extension": ".py",
   "mimetype": "text/x-python",
   "name": "python",
   "nbconvert_exporter": "python",
   "pygments_lexer": "ipython3",
   "version": "3.11.11"
  }
 },
 "nbformat": 4,
 "nbformat_minor": 2
}
