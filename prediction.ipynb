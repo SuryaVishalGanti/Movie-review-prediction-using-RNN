{
 "cells": [
  {
   "cell_type": "code",
   "execution_count": 1,
   "metadata": {},
   "outputs": [],
   "source": [
    "import numpy as np \n",
    "import tensorflow as tf \n",
    "from tensorflow.keras.datasets import imdb \n",
    "from tensorflow.keras.preprocessing import sequence \n",
    "from tensorflow.keras.models import load_model"
   ]
  },
  {
   "cell_type": "code",
   "execution_count": 2,
   "metadata": {},
   "outputs": [],
   "source": [
    "#Load the IMDB dataset word index \n",
    "word_index = imdb.get_word_index() \n",
    "reverse_word_index = {value: key for key, value in word_index.items()}"
   ]
  },
  {
   "cell_type": "code",
   "execution_count": 3,
   "metadata": {},
   "outputs": [
    {
     "name": "stderr",
     "output_type": "stream",
     "text": [
      "WARNING:absl:Compiled the loaded model, but the compiled metrics have yet to be built. `model.compile_metrics` will be empty until you train or evaluate the model.\n"
     ]
    },
    {
     "data": {
      "text/html": [
       "<pre style=\"white-space:pre;overflow-x:auto;line-height:normal;font-family:Menlo,'DejaVu Sans Mono',consolas,'Courier New',monospace\"><span style=\"font-weight: bold\">Model: \"sequential\"</span>\n",
       "</pre>\n"
      ],
      "text/plain": [
       "\u001b[1mModel: \"sequential\"\u001b[0m\n"
      ]
     },
     "metadata": {},
     "output_type": "display_data"
    },
    {
     "data": {
      "text/html": [
       "<pre style=\"white-space:pre;overflow-x:auto;line-height:normal;font-family:Menlo,'DejaVu Sans Mono',consolas,'Courier New',monospace\">┏━━━━━━━━━━━━━━━━━━━━━━━━━━━━━━━━━┳━━━━━━━━━━━━━━━━━━━━━━━━┳━━━━━━━━━━━━━━━┓\n",
       "┃<span style=\"font-weight: bold\"> Layer (type)                    </span>┃<span style=\"font-weight: bold\"> Output Shape           </span>┃<span style=\"font-weight: bold\">       Param # </span>┃\n",
       "┡━━━━━━━━━━━━━━━━━━━━━━━━━━━━━━━━━╇━━━━━━━━━━━━━━━━━━━━━━━━╇━━━━━━━━━━━━━━━┩\n",
       "│ embedding (<span style=\"color: #0087ff; text-decoration-color: #0087ff\">Embedding</span>)           │ (<span style=\"color: #00af00; text-decoration-color: #00af00\">32</span>, <span style=\"color: #00af00; text-decoration-color: #00af00\">500</span>, <span style=\"color: #00af00; text-decoration-color: #00af00\">128</span>)         │     <span style=\"color: #00af00; text-decoration-color: #00af00\">1,280,000</span> │\n",
       "├─────────────────────────────────┼────────────────────────┼───────────────┤\n",
       "│ simple_rnn (<span style=\"color: #0087ff; text-decoration-color: #0087ff\">SimpleRNN</span>)          │ (<span style=\"color: #00af00; text-decoration-color: #00af00\">32</span>, <span style=\"color: #00af00; text-decoration-color: #00af00\">128</span>)              │        <span style=\"color: #00af00; text-decoration-color: #00af00\">32,896</span> │\n",
       "├─────────────────────────────────┼────────────────────────┼───────────────┤\n",
       "│ dense (<span style=\"color: #0087ff; text-decoration-color: #0087ff\">Dense</span>)                   │ (<span style=\"color: #00af00; text-decoration-color: #00af00\">32</span>, <span style=\"color: #00af00; text-decoration-color: #00af00\">1</span>)                │           <span style=\"color: #00af00; text-decoration-color: #00af00\">129</span> │\n",
       "└─────────────────────────────────┴────────────────────────┴───────────────┘\n",
       "</pre>\n"
      ],
      "text/plain": [
       "┏━━━━━━━━━━━━━━━━━━━━━━━━━━━━━━━━━┳━━━━━━━━━━━━━━━━━━━━━━━━┳━━━━━━━━━━━━━━━┓\n",
       "┃\u001b[1m \u001b[0m\u001b[1mLayer (type)                   \u001b[0m\u001b[1m \u001b[0m┃\u001b[1m \u001b[0m\u001b[1mOutput Shape          \u001b[0m\u001b[1m \u001b[0m┃\u001b[1m \u001b[0m\u001b[1m      Param #\u001b[0m\u001b[1m \u001b[0m┃\n",
       "┡━━━━━━━━━━━━━━━━━━━━━━━━━━━━━━━━━╇━━━━━━━━━━━━━━━━━━━━━━━━╇━━━━━━━━━━━━━━━┩\n",
       "│ embedding (\u001b[38;5;33mEmbedding\u001b[0m)           │ (\u001b[38;5;34m32\u001b[0m, \u001b[38;5;34m500\u001b[0m, \u001b[38;5;34m128\u001b[0m)         │     \u001b[38;5;34m1,280,000\u001b[0m │\n",
       "├─────────────────────────────────┼────────────────────────┼───────────────┤\n",
       "│ simple_rnn (\u001b[38;5;33mSimpleRNN\u001b[0m)          │ (\u001b[38;5;34m32\u001b[0m, \u001b[38;5;34m128\u001b[0m)              │        \u001b[38;5;34m32,896\u001b[0m │\n",
       "├─────────────────────────────────┼────────────────────────┼───────────────┤\n",
       "│ dense (\u001b[38;5;33mDense\u001b[0m)                   │ (\u001b[38;5;34m32\u001b[0m, \u001b[38;5;34m1\u001b[0m)                │           \u001b[38;5;34m129\u001b[0m │\n",
       "└─────────────────────────────────┴────────────────────────┴───────────────┘\n"
      ]
     },
     "metadata": {},
     "output_type": "display_data"
    },
    {
     "data": {
      "text/html": [
       "<pre style=\"white-space:pre;overflow-x:auto;line-height:normal;font-family:Menlo,'DejaVu Sans Mono',consolas,'Courier New',monospace\"><span style=\"font-weight: bold\"> Total params: </span><span style=\"color: #00af00; text-decoration-color: #00af00\">1,313,027</span> (5.01 MB)\n",
       "</pre>\n"
      ],
      "text/plain": [
       "\u001b[1m Total params: \u001b[0m\u001b[38;5;34m1,313,027\u001b[0m (5.01 MB)\n"
      ]
     },
     "metadata": {},
     "output_type": "display_data"
    },
    {
     "data": {
      "text/html": [
       "<pre style=\"white-space:pre;overflow-x:auto;line-height:normal;font-family:Menlo,'DejaVu Sans Mono',consolas,'Courier New',monospace\"><span style=\"font-weight: bold\"> Trainable params: </span><span style=\"color: #00af00; text-decoration-color: #00af00\">1,313,025</span> (5.01 MB)\n",
       "</pre>\n"
      ],
      "text/plain": [
       "\u001b[1m Trainable params: \u001b[0m\u001b[38;5;34m1,313,025\u001b[0m (5.01 MB)\n"
      ]
     },
     "metadata": {},
     "output_type": "display_data"
    },
    {
     "data": {
      "text/html": [
       "<pre style=\"white-space:pre;overflow-x:auto;line-height:normal;font-family:Menlo,'DejaVu Sans Mono',consolas,'Courier New',monospace\"><span style=\"font-weight: bold\"> Non-trainable params: </span><span style=\"color: #00af00; text-decoration-color: #00af00\">0</span> (0.00 B)\n",
       "</pre>\n"
      ],
      "text/plain": [
       "\u001b[1m Non-trainable params: \u001b[0m\u001b[38;5;34m0\u001b[0m (0.00 B)\n"
      ]
     },
     "metadata": {},
     "output_type": "display_data"
    },
    {
     "data": {
      "text/html": [
       "<pre style=\"white-space:pre;overflow-x:auto;line-height:normal;font-family:Menlo,'DejaVu Sans Mono',consolas,'Courier New',monospace\"><span style=\"font-weight: bold\"> Optimizer params: </span><span style=\"color: #00af00; text-decoration-color: #00af00\">2</span> (12.00 B)\n",
       "</pre>\n"
      ],
      "text/plain": [
       "\u001b[1m Optimizer params: \u001b[0m\u001b[38;5;34m2\u001b[0m (12.00 B)\n"
      ]
     },
     "metadata": {},
     "output_type": "display_data"
    }
   ],
   "source": [
    "## Loading our h5 file\n",
    "model = load_model('simple_rnn_imdb.h5')\n",
    "model.summary()"
   ]
  },
  {
   "cell_type": "code",
   "execution_count": 4,
   "metadata": {},
   "outputs": [
    {
     "data": {
      "text/plain": [
       "[array([[ 0.6010071 , -0.05034391,  0.08776459, ..., -0.05630377,\n",
       "          0.0874012 , -0.639617  ],\n",
       "        [ 0.04460207, -0.02235239, -0.01897552, ..., -0.03468719,\n",
       "          0.02189216, -0.02486074],\n",
       "        [ 0.07254957,  0.07003582, -0.03003536, ...,  0.22250412,\n",
       "          0.02682604, -0.10572793],\n",
       "        ...,\n",
       "        [-0.01923287, -0.07615694,  0.01984897, ...,  0.00286338,\n",
       "          0.01613308, -0.04179398],\n",
       "        [-0.01420804,  0.03067445, -0.0659092 , ..., -0.09799318,\n",
       "         -0.04983832,  0.02173394],\n",
       "        [-0.08074522, -0.08337814, -0.06173705, ...,  0.08185538,\n",
       "          0.03207783,  0.00761445]], dtype=float32),\n",
       " array([[-0.12591994, -0.10695906,  0.08961602, ...,  0.05724039,\n",
       "          0.14339367, -0.03946246],\n",
       "        [-0.12876526,  0.15152577,  0.00537396, ..., -0.12734239,\n",
       "         -0.19034998,  0.02195843],\n",
       "        [-0.12434519,  0.06576774,  0.13551804, ..., -0.1779107 ,\n",
       "          0.17047723, -0.15184002],\n",
       "        ...,\n",
       "        [-0.0597981 , -0.10819001,  0.08150622, ...,  0.06092127,\n",
       "          0.0760102 ,  0.05900877],\n",
       "        [-0.14537305, -0.11485056,  0.02768969, ...,  0.08146096,\n",
       "          0.0271165 , -0.11777293],\n",
       "        [ 0.18139413,  0.14756693, -0.07510497, ...,  0.03090365,\n",
       "          0.0813018 ,  0.17537628]], dtype=float32),\n",
       " array([[ 0.18457079, -0.05489054,  0.04073644, ...,  0.00519921,\n",
       "          0.13877237,  0.06237742],\n",
       "        [ 0.03798641,  0.01795389,  0.16189784, ...,  0.08762384,\n",
       "         -0.12639542, -0.0085792 ],\n",
       "        [ 0.10110868,  0.00992247,  0.09658308, ..., -0.07557696,\n",
       "         -0.063366  , -0.02886352],\n",
       "        ...,\n",
       "        [ 0.08672749, -0.03500439,  0.06726709, ...,  0.02350552,\n",
       "          0.13111494,  0.02129029],\n",
       "        [-0.04170391, -0.13557975,  0.00565025, ..., -0.17870867,\n",
       "          0.0189967 , -0.09087966],\n",
       "        [-0.05749   ,  0.04776108,  0.21580467, ...,  0.02926599,\n",
       "          0.1404226 , -0.02521168]], dtype=float32),\n",
       " array([-0.03436548, -0.00590868, -0.00448933,  0.00652884, -0.04092213,\n",
       "        -0.00050844,  0.00139104,  0.00518475, -0.00608884,  0.00180555,\n",
       "        -0.01596096, -0.02646908,  0.05645102, -0.00835541, -0.02019764,\n",
       "        -0.00570996,  0.00842502, -0.00935449,  0.02886143, -0.03258002,\n",
       "        -0.00405769, -0.01053804, -0.02139516, -0.02218743, -0.0267235 ,\n",
       "        -0.0075241 ,  0.03357035, -0.02191014, -0.01728247, -0.02646519,\n",
       "        -0.02144664, -0.02462203, -0.02711272, -0.00901507, -0.03346367,\n",
       "        -0.01344612, -0.03766562, -0.02187243, -0.00428622, -0.0146668 ,\n",
       "         0.0611154 ,  0.02244906, -0.02640867, -0.0038998 , -0.01989196,\n",
       "         0.01418118, -0.01392532, -0.0221437 , -0.03616012, -0.02971575,\n",
       "        -0.01596324, -0.03791472,  0.01669761, -0.03202654, -0.02256725,\n",
       "        -0.01488985,  0.04358636, -0.03342261, -0.01993132,  0.02359411,\n",
       "        -0.02001435, -0.02997096, -0.00970485, -0.01890597, -0.0097346 ,\n",
       "        -0.03121896,  0.00963836, -0.02027308, -0.03169264, -0.03035754,\n",
       "        -0.05350466,  0.0191269 , -0.00284816, -0.02342729, -0.03993702,\n",
       "        -0.02145381, -0.04076786, -0.01080864, -0.01503738,  0.00089221,\n",
       "        -0.01606477, -0.00420929, -0.04551468,  0.00275851, -0.00169164,\n",
       "        -0.02344896, -0.01159543,  0.00919401,  0.01629201, -0.03357565,\n",
       "        -0.03139281,  0.01552705,  0.00340654, -0.0320912 , -0.02538969,\n",
       "         0.00834726,  0.03132275,  0.00495346, -0.03634932, -0.02399991,\n",
       "        -0.00101278, -0.0341981 ,  0.03951444, -0.02796427,  0.00705958,\n",
       "         0.03242917,  0.00122558, -0.03281752, -0.01347919,  0.01357633,\n",
       "         0.002351  ,  0.01334211,  0.01651478, -0.01494061, -0.03481565,\n",
       "        -0.02198065,  0.01978474,  0.04448893, -0.01202248, -0.01697947,\n",
       "         0.00901229, -0.01508198, -0.0066881 ,  0.0117674 , -0.02235784,\n",
       "        -0.01022287,  0.0140386 , -0.00040132], dtype=float32),\n",
       " array([[-2.53153462e-02],\n",
       "        [-4.80481833e-02],\n",
       "        [-1.39910251e-01],\n",
       "        [-1.98911950e-02],\n",
       "        [-4.93782684e-02],\n",
       "        [-5.91381118e-02],\n",
       "        [-1.92142472e-01],\n",
       "        [ 4.67609763e-02],\n",
       "        [-1.85836732e-01],\n",
       "        [-2.12944180e-01],\n",
       "        [ 3.80114466e-01],\n",
       "        [ 8.09497982e-02],\n",
       "        [ 1.18074976e-01],\n",
       "        [ 1.29072919e-01],\n",
       "        [ 3.61826979e-02],\n",
       "        [ 1.87137529e-01],\n",
       "        [ 1.72139615e-01],\n",
       "        [-1.23031966e-01],\n",
       "        [-1.05112247e-01],\n",
       "        [-1.35738656e-01],\n",
       "        [ 2.34147951e-01],\n",
       "        [ 1.87904641e-01],\n",
       "        [ 8.09360370e-02],\n",
       "        [-1.25381887e-01],\n",
       "        [-4.98214960e-02],\n",
       "        [-1.93285659e-01],\n",
       "        [-6.90687001e-02],\n",
       "        [ 1.66773021e-01],\n",
       "        [ 1.70023460e-02],\n",
       "        [-2.13739946e-01],\n",
       "        [ 1.36999846e-01],\n",
       "        [ 5.89831285e-02],\n",
       "        [ 2.01893911e-01],\n",
       "        [ 1.88019350e-01],\n",
       "        [ 1.42506778e-01],\n",
       "        [ 1.35860696e-01],\n",
       "        [ 2.94680327e-01],\n",
       "        [ 4.17125255e-01],\n",
       "        [-1.18212484e-01],\n",
       "        [-2.08597425e-02],\n",
       "        [ 3.75221759e-01],\n",
       "        [-1.26821518e-01],\n",
       "        [ 8.04911405e-02],\n",
       "        [-1.36639088e-01],\n",
       "        [ 1.97847545e-01],\n",
       "        [ 3.02652549e-02],\n",
       "        [ 7.92536288e-02],\n",
       "        [ 1.89143196e-01],\n",
       "        [ 5.75668700e-02],\n",
       "        [-4.33514491e-02],\n",
       "        [-7.73749948e-02],\n",
       "        [-1.02896333e-01],\n",
       "        [ 2.17839748e-01],\n",
       "        [-1.54959291e-01],\n",
       "        [-3.62345927e-05],\n",
       "        [-1.45943416e-02],\n",
       "        [-3.53964791e-02],\n",
       "        [ 6.55666515e-02],\n",
       "        [ 1.32783741e-01],\n",
       "        [-6.05300479e-02],\n",
       "        [-1.02151021e-01],\n",
       "        [-9.26803499e-02],\n",
       "        [-1.25231789e-02],\n",
       "        [ 6.30360022e-02],\n",
       "        [ 8.43855888e-02],\n",
       "        [ 1.03308491e-01],\n",
       "        [ 2.06718802e-01],\n",
       "        [-9.35753286e-02],\n",
       "        [-2.59916186e-01],\n",
       "        [-1.60731196e-01],\n",
       "        [ 1.95551172e-01],\n",
       "        [ 1.73212215e-01],\n",
       "        [ 1.44279450e-01],\n",
       "        [-1.16285887e-02],\n",
       "        [-3.49272877e-01],\n",
       "        [-8.86980593e-02],\n",
       "        [ 1.32126316e-01],\n",
       "        [-1.00271776e-01],\n",
       "        [ 5.98369129e-02],\n",
       "        [ 6.75694793e-02],\n",
       "        [ 1.42436892e-01],\n",
       "        [ 1.22895986e-01],\n",
       "        [-1.45634264e-01],\n",
       "        [-1.08593248e-01],\n",
       "        [-1.46686351e-02],\n",
       "        [ 8.02696049e-02],\n",
       "        [ 2.26462692e-01],\n",
       "        [-8.81032720e-02],\n",
       "        [-3.20660993e-02],\n",
       "        [ 1.31985703e-02],\n",
       "        [ 1.54980391e-01],\n",
       "        [-7.46862367e-02],\n",
       "        [-6.30168468e-02],\n",
       "        [ 4.50346433e-03],\n",
       "        [-7.91941732e-02],\n",
       "        [ 1.19765505e-01],\n",
       "        [-1.53235942e-01],\n",
       "        [-1.76979378e-01],\n",
       "        [ 2.38658153e-02],\n",
       "        [-1.00945123e-01],\n",
       "        [-6.54890463e-02],\n",
       "        [ 1.72313914e-01],\n",
       "        [ 2.38564864e-01],\n",
       "        [-1.67819411e-01],\n",
       "        [-1.15602739e-01],\n",
       "        [-1.24611154e-01],\n",
       "        [ 2.24240392e-01],\n",
       "        [-4.32200469e-02],\n",
       "        [-1.18103988e-01],\n",
       "        [ 4.22060311e-01],\n",
       "        [-4.54391679e-03],\n",
       "        [-8.16582367e-02],\n",
       "        [-6.02602698e-02],\n",
       "        [ 1.88784733e-01],\n",
       "        [ 2.42408365e-01],\n",
       "        [ 3.84093300e-02],\n",
       "        [-5.92633523e-02],\n",
       "        [-1.54593587e-01],\n",
       "        [ 1.29319519e-01],\n",
       "        [-1.87949136e-01],\n",
       "        [-4.54177298e-02],\n",
       "        [ 2.61798725e-02],\n",
       "        [-1.29038483e-01],\n",
       "        [ 7.89631903e-02],\n",
       "        [ 2.04936899e-02],\n",
       "        [ 1.40737608e-01],\n",
       "        [ 1.43383875e-01],\n",
       "        [-6.74322322e-02]], dtype=float32),\n",
       " array([0.12238184], dtype=float32)]"
      ]
     },
     "execution_count": 4,
     "metadata": {},
     "output_type": "execute_result"
    }
   ],
   "source": [
    "model.get_weights()"
   ]
  },
  {
   "cell_type": "code",
   "execution_count": 5,
   "metadata": {},
   "outputs": [],
   "source": [
    "## Step -2: Helper Function\n",
    "def decode_review(encoded_review):\n",
    "    return ' '.join([reverse_word_index.get(i - 3, '?') for i in encoded_review])\n",
    "\n",
    "## Function to process the user input()\n",
    "def preprocess_text(text):\n",
    "    words = text.lower().split()\n",
    "    encoded_review = [word_index.get(word,2)+3 for word in words]\n",
    "    padded_review = sequence.pad_sequences([encoded_review], maxlen=500)\n",
    "    return padded_review"
   ]
  },
  {
   "cell_type": "code",
   "execution_count": 6,
   "metadata": {},
   "outputs": [],
   "source": [
    "## Prediction function\n",
    "\n",
    "def predict_sentiment(review):\n",
    "    preprocessed_input = preprocess_text(review)\n",
    "\n",
    "    prediction = model.predict(preprocessed_input)\n",
    "\n",
    "    sentiment = 'Positive' if prediction[0][0] > 0.5 else 'Negative'\n",
    "\n",
    "    return sentiment, prediction[0][0] "
   ]
  },
  {
   "cell_type": "code",
   "execution_count": 7,
   "metadata": {},
   "outputs": [
    {
     "name": "stdout",
     "output_type": "stream",
     "text": [
      "\u001b[1m1/1\u001b[0m \u001b[32m━━━━━━━━━━━━━━━━━━━━\u001b[0m\u001b[37m\u001b[0m \u001b[1m0s\u001b[0m 75ms/step\n",
      "Review: This movie was fantastic! The acting was great and the plot was thrilling.\n",
      "Sentiment: Positive\n",
      "Prediction Score: 0.7288728952407837\n"
     ]
    }
   ],
   "source": [
    "## Step - 4 User Input & Prediction\n",
    "# Example review for prediction\n",
    "example_review = \"This movie was fantastic! The acting was great and the plot was thrilling.\" \n",
    "sentiment, score =  predict_sentiment(example_review)\n",
    "\n",
    "print(f'Review: {example_review}') \n",
    "print(f'Sentiment: {sentiment}') \n",
    "print(f'Prediction Score: {score}')\n"
   ]
  },
  {
   "cell_type": "code",
   "execution_count": null,
   "metadata": {},
   "outputs": [],
   "source": []
  },
  {
   "cell_type": "code",
   "execution_count": null,
   "metadata": {},
   "outputs": [],
   "source": []
  }
 ],
 "metadata": {
  "kernelspec": {
   "display_name": "myenv",
   "language": "python",
   "name": "python3"
  },
  "language_info": {
   "codemirror_mode": {
    "name": "ipython",
    "version": 3
   },
   "file_extension": ".py",
   "mimetype": "text/x-python",
   "name": "python",
   "nbconvert_exporter": "python",
   "pygments_lexer": "ipython3",
   "version": "3.11.11"
  }
 },
 "nbformat": 4,
 "nbformat_minor": 2
}
